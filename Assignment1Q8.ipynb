{
 "cells": [
  {
   "cell_type": "code",
   "execution_count": 1,
   "metadata": {
    "collapsed": true
   },
   "outputs": [],
   "source": [
    "import networkx as nx\n",
    "import matplotlib.pyplot as plt"
   ]
  },
  {
   "cell_type": "code",
   "execution_count": 26,
   "metadata": {
    "collapsed": false
   },
   "outputs": [
    {
     "name": "stdout",
     "output_type": "stream",
     "text": [
      "8.986\n"
     ]
    }
   ],
   "source": [
    "ERRG = nx.fast_gnp_random_graph(1000, 0.009)\n",
    "nodeDegrees = list(ERRG.degree().values())\n",
    "meanDegree = sum(nodeDegrees) * 1.0 / len(nodeDegrees)\n",
    "print meanDegree"
   ]
  },
  {
   "cell_type": "code",
   "execution_count": 27,
   "metadata": {
    "collapsed": false
   },
   "outputs": [
    {
     "name": "stdout",
     "output_type": "stream",
     "text": [
      "False\n"
     ]
    }
   ],
   "source": [
    "print nx.is_connected(ERRG)"
   ]
  },
  {
   "cell_type": "code",
   "execution_count": 10,
   "metadata": {
    "collapsed": false
   },
   "outputs": [
    {
     "name": "stdout",
     "output_type": "stream",
     "text": [
      "[0, 1, 3, 21, 32, 63, 102, 117, 127, 131, 123, 101, 73, 47, 22, 13, 11, 6, 5, 0, 0, 1, 0, 1]\n"
     ]
    },
    {
     "data": {
      "image/png": "[encoded data removed]",
      "text/plain": [
       "<matplotlib.figure.Figure at 0x9e26b70>"
      ]
     },
     "metadata": {},
     "output_type": "display_data"
    }
   ],
   "source": [
    "degreeHistogram = nx.degree_histogram(ERRG)\n",
    "print degreeHistogram\n",
    "xDegreeHistogram = degreeHistogram[1:]\n",
    "yDegreeHistogram = range(1,len(xDegreeHistogram)+1)\n",
    "plt.plot(yDegreeHistogram, xDegreeHistogram ,'r-',marker='o')\n",
    "plt.title(\"Degree Distribution of Nodes\")\n",
    "plt.ylabel(\"nk\")\n",
    "plt.xlabel(\"k\")\n",
    "#plt.yscale('log')\n",
    "plt.savefig(\"ERRGDegreeDistributionKVSNk.png\")\n",
    "plt.show()"
   ]
  },
  {
   "cell_type": "code",
   "execution_count": null,
   "metadata": {
    "collapsed": true
   },
   "outputs": [],
   "source": []
  }
 ],
 "metadata": {
  "kernelspec": {
   "display_name": "Python 2",
   "language": "python",
   "name": "python2"
  },
  "language_info": {
   "codemirror_mode": {
    "name": "ipython",
    "version": 2
   },
   "file_extension": ".py",
   "mimetype": "text/x-python",
   "name": "python",
   "nbconvert_exporter": "python",
   "pygments_lexer": "ipython2",
   "version": "2.7.13"
  }
 },
 "nbformat": 4,
 "nbformat_minor": 2
}
