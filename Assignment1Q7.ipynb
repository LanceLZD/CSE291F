{
 "cells": [
  {
   "cell_type": "code",
   "execution_count": 1,
   "metadata": {
    "collapsed": false
   },
   "outputs": [],
   "source": [
    "import networkx as nx\n",
    "import matplotlib.pyplot as plt\n",
    "GRQC = nx.read_edgelist(\"C:/Users/Think/Documents/CSE291F/CA-GrQc.txt\")"
   ]
  },
  {
   "cell_type": "code",
   "execution_count": 2,
   "metadata": {
    "collapsed": false
   },
   "outputs": [
    {
     "name": "stdout",
     "output_type": "stream",
     "text": [
      "5242 14496 355\n",
      "[4158, 4, 3, 2, 3, 5, 4, 3, 2, 3, 10, 7, 3, 3, 3, 9, 3, 3, 3, 2, 2, 3, 4, 5, 5, 3, 12, 3, 5, 3, 2, 2, 4, 4, 7, 3, 2, 4, 8, 2, 2, 6, 3, 2, 2, 2, 3, 5, 5, 3, 4, 3, 2, 5, 2, 4, 2, 5, 4, 4, 6, 3, 2, 2, 2, 8, 3, 3, 4, 3, 2, 3, 3, 8, 2, 3, 3, 3, 3, 2, 2, 4, 2, 6, 2, 8, 3, 14, 5, 6, 2, 3, 2, 6, 6, 9, 3, 2, 4, 5, 2, 3, 2, 2, 5, 6, 6, 3, 4, 2, 3, 4, 2, 3, 3, 3, 4, 4, 2, 3, 2, 7, 2, 2, 3, 4, 2, 2, 2, 2, 3, 2, 2, 2, 6, 2, 3, 2, 5, 3, 3, 7, 2, 3, 4, 3, 2, 2, 2, 2, 2, 3, 4, 5, 2, 7, 3, 3, 3, 2, 2, 2, 3, 2, 3, 2, 2, 2, 2, 2, 3, 3, 2, 2, 2, 2, 3, 2, 8, 2, 2, 3, 2, 3, 3, 7, 5, 2, 5, 4, 2, 4, 3, 2, 2, 7, 7, 2, 3, 3, 5, 2, 2, 4, 3, 2, 3, 2, 2, 2, 4, 2, 2, 2, 6, 2, 2, 2, 6, 2, 2, 2, 3, 2, 4, 2, 3, 3, 2, 2, 3, 3, 3, 2, 2, 2, 2, 3, 2, 3, 2, 2, 2, 6, 2, 4, 2, 2, 2, 2, 2, 2, 2, 2, 3, 2, 3, 3, 5, 4, 2, 3, 2, 2, 4, 3, 3, 2, 2, 4, 3, 3, 3, 2, 2, 2, 2, 2, 3, 2, 2, 2, 2, 2, 8, 3, 3, 2, 3, 2, 2, 3, 2, 3, 2, 3, 2, 2, 2, 3, 3, 2, 2, 2, 4, 2, 2, 2, 2, 2, 2, 2, 2, 2, 2, 2, 2, 2, 2, 3, 2, 3, 2, 3, 2, 2, 2, 2, 2, 3, 3, 3, 2, 2, 3, 3, 2, 2, 2, 1, 3, 2, 2, 2, 2, 2, 2, 2, 2, 2, 2, 2, 2, 2, 2]\n",
      "[1, 2, 3, 4, 5, 6, 7, 8, 9, 10, 12, 14, 4158]\n",
      "[1, 177, 98, 30, 17, 12, 8, 6, 2, 1, 1, 1, 1]\n"
     ]
    },
    {
     "data": {
      "image/png": "[encoded data removed]",
      "text/plain": [
       "<matplotlib.figure.Figure at 0x9edccc0>"
      ]
     },
     "metadata": {},
     "output_type": "display_data"
    }
   ],
   "source": [
    "numberNodes = len(GRQC.nodes())\n",
    "numberEdges =  len(GRQC.edges())\n",
    "numberCC = nx.number_connected_components(GRQC)\n",
    "print numberNodes, numberEdges, numberCC\n",
    "sizeCC = [len(i) for i in list(nx.connected_components(GRQC))]\n",
    "print sizeCC\n",
    "countSizeCC = [(i, sizeCC.count(i)) for i in set(sizeCC)]\n",
    "xCountSizeCC = [i[0] for i in countSizeCC]\n",
    "yCountSizeCC = [i[1] for i in countSizeCC]\n",
    "print xCountSizeCC\n",
    "print yCountSizeCC\n",
    "plt.plot(xCountSizeCC, yCountSizeCC ,'r-',marker='o')\n",
    "plt.title(\"Size Distribution of Connected Components\")\n",
    "plt.ylabel(\"Count\")\n",
    "plt.xscale('log')\n",
    "plt.xlabel(\"Size\")\n",
    "plt.savefig(\"sizeDistributionCC.png\")\n",
    "plt.show()"
   ]
  },
  {
   "cell_type": "code",
   "execution_count": 3,
   "metadata": {
    "collapsed": false
   },
   "outputs": [
    {
     "name": "stdout",
     "output_type": "stream",
     "text": [
      "4158 13428 0.79320869897 0.926324503311\n"
     ]
    }
   ],
   "source": [
    "GCC = max(nx.connected_component_subgraphs(GRQC), key=len)\n",
    "numberGCCNodes = len(GCC.nodes())\n",
    "numberGCCEdges = len(GCC.edges())\n",
    "ratioGCCNodes = numberGCCNodes * 1.0 / numberNodes\n",
    "ratioGCCEdges = numberGCCEdges * 1.0 / numberEdges\n",
    "print numberGCCNodes, numberGCCEdges, ratioGCCNodes, ratioGCCEdges"
   ]
  },
  {
   "cell_type": "code",
   "execution_count": 15,
   "metadata": {
    "collapsed": false
   },
   "outputs": [
    {
     "name": "stdout",
     "output_type": "stream",
     "text": [
      "1 81 3 5.53071346814\n"
     ]
    },
    {
     "data": {
      "image/png": "[encoded data removed]",
      "text/plain": [
       "<matplotlib.figure.Figure at 0xa5c3048>"
      ]
     },
     "metadata": {},
     "output_type": "display_data"
    },
    {
     "name": "stdout",
     "output_type": "stream",
     "text": [
      "[7.0157124204872297, 6.6528630293533473, 6.2085900260966289, 5.7004435733906869, 5.4161004022044201, 5.0689042022202315, 4.9487598903781684, 4.5849674786705723, 4.5217885770490405, 4.1896547420264252, 3.8286413964890951, 4.0604430105464191, 3.6375861597263857, 3.8712010109078911, 3.2188758248682006, 3.7612001156935624, 2.9957322735539909, 2.9444389791664403, 3.3322045101752038, 2.7725887222397811, 2.4849066497880004]\n",
      "[0.69314718055994529, 1.0986122886681098, 1.3862943611198906, 1.6094379124341003, 1.791759469228055, 1.9459101490553132, 2.0794415416798357, 2.1972245773362196, 2.3025850929940459, 2.3978952727983707, 2.4849066497880004, 2.5649493574615367, 2.6390573296152584, 2.7080502011022101, 2.7725887222397811, 2.8332133440562162, 2.8903717578961645, 2.9444389791664403, 2.9957322735539909, 3.044522437723423, 3.0910424533583161]\n",
      "[-1.88475485  8.69389986]\n"
     ]
    },
    {
     "name": "stderr",
     "output_type": "stream",
     "text": [
      "C:\\ProgramData\\Anaconda2\\lib\\site-packages\\ipykernel\\__main__.py:16: RuntimeWarning: divide by zero encountered in log\n"
     ]
    }
   ],
   "source": [
    "import numpy\n",
    "nodeDegrees = list(GRQC.degree().values())\n",
    "sortNodeDegrees = sorted(nodeDegrees)\n",
    "print sortNodeDegrees[0], sortNodeDegrees[-1], sortNodeDegrees[len(sortNodeDegrees)/2], sum(sortNodeDegrees) * 1.0 / len(sortNodeDegrees)\n",
    "degreeHistogram = nx.degree_histogram(GRQC)\n",
    "xDegreeHistogram = degreeHistogram[1:]\n",
    "yDegreeHistogram = range(1,82)\n",
    "plt.plot(yDegreeHistogram, xDegreeHistogram ,'r-',marker='o')\n",
    "plt.title(\"Degree Distribution of Nodes\")\n",
    "plt.ylabel(\"nk\")\n",
    "plt.xlabel(\"k\")\n",
    "plt.yscale('log')\n",
    "plt.xscale('log')\n",
    "plt.savefig(\"DegreeDistributionKVSNk.png\")\n",
    "plt.show()\n",
    "xLogDegreeHistogram = [numpy.log(x) for x in xDegreeHistogram]\n",
    "yLogDegreeHistogram = [numpy.log(y) for y in yDegreeHistogram]\n",
    "print xLogDegreeHistogram[1:22]\n",
    "print yLogDegreeHistogram[1:22]\n",
    "fit = numpy.polyfit(yLogDegreeHistogram[1:22], xLogDegreeHistogram[1:22], 1)\n",
    "print fit"
   ]
  },
  {
   "cell_type": "code",
   "execution_count": 48,
   "metadata": {
    "collapsed": false
   },
   "outputs": [
    {
     "name": "stdout",
     "output_type": "stream",
     "text": [
      "[(0, 810), (1, 858), (2, 190), (3, 603), (4, 156), (5, 104), (6, 255), (7, 88), (8, 70), (9, 75), (10, 90), (11, 37), (12, 42), (13, 41), (14, 35), (15, 55), (16, 20), (17, 20), (18, 20), (19, 13), (20, 9), (21, 48), (22, 9), (23, 8), (24, 17), (25, 12), (26, 5), (27, 5), (28, 30), (29, 4), (30, 6), (31, 8), (32, 1), (33, 7), (34, 5), (35, 13), (36, 17), (37, 4), (38, 5), (39, 3), (40, 2), (41, 1), (42, 3), (43, 3), (44, 1), (45, 7), (46, 4), (47, 2), (48, 3), (51, 1), (52, 1), (55, 15), (56, 3), (57, 2), (59, 1), (60, 1), (63, 1), (65, 1), (66, 1), (67, 1), (69, 1), (70, 2), (72, 1), (73, 1), (74, 1), (75, 1), (78, 9), (79, 1), (80, 2), (85, 2), (89, 7), (90, 5), (91, 14), (93, 1), (94, 1), (97, 1), (98, 2), (99, 2), (104, 1), (105, 16), (106, 1), (108, 1), (114, 1), (117, 1), (122, 1), (136, 25), (141, 1), (144, 1), (145, 1), (146, 1), (150, 1), (153, 1), (154, 1), (157, 1), (162, 1), (171, 2), (172, 1), (176, 1), (190, 17), (193, 2), (197, 1), (201, 1), (210, 4), (245, 14), (246, 1), (249, 1), (253, 23), (254, 1), (263, 1), (266, 1), (307, 1), (326, 1), (465, 5), (467, 1), (469, 1), (471, 1), (528, 6), (552, 2), (559, 1), (561, 33), (562, 1), (564, 2), (740, 3), (764, 19), (772, 1), (794, 1), (861, 1), (903, 1), (908, 1), (971, 1), (985, 12), (986, 1), (988, 1), (990, 2), (991, 1), (993, 2), (994, 1), (1000, 1), (1002, 1), (1004, 1), (1006, 2), (1017, 1), (1040, 1), (1042, 1), (1048, 1), (1050, 1), (1051, 1), (1054, 2), (1056, 1), (1068, 1), (1072, 1), (1088, 1), (1103, 1), (1109, 1), (1126, 1), (1133, 1), (1179, 1)]\n",
      "[0, 1, 2, 3, 4, 5, 6, 7, 8, 9, 10, 11, 12, 13, 14, 15, 16, 17, 18, 19, 20, 21, 22, 23, 24, 25, 26, 27, 28, 29, 30, 31, 32, 33, 34, 35, 36, 37, 38, 39, 40, 41, 42, 43, 44, 45, 46, 47, 48, 51, 52, 55, 56, 57, 59, 60, 63, 65, 66, 67, 69, 70, 72, 73, 74, 75, 78, 79, 80, 85, 89, 90, 91, 93, 94, 97, 98, 99, 104, 105, 106, 108, 114, 117, 122, 136, 141, 144, 145, 146, 150, 153, 154, 157, 162, 171, 172, 176, 190, 193, 197, 201, 210, 245, 246, 249, 253, 254, 263, 266, 307, 326, 465, 467, 469, 471, 528, 552, 559, 561, 562, 564, 740, 764, 772, 794, 861, 903, 908, 971, 985, 986, 988, 990, 991, 993, 994, 1000, 1002, 1004, 1006, 1017, 1040, 1042, 1048, 1050, 1051, 1054, 1056, 1068, 1072, 1088, 1103, 1109, 1126, 1133, 1179]\n",
      "[810, 858, 190, 603, 156, 104, 255, 88, 70, 75, 90, 37, 42, 41, 35, 55, 20, 20, 20, 13, 9, 48, 9, 8, 17, 12, 5, 5, 30, 4, 6, 8, 1, 7, 5, 13, 17, 4, 5, 3, 2, 1, 3, 3, 1, 7, 4, 2, 3, 1, 1, 15, 3, 2, 1, 1, 1, 1, 1, 1, 1, 2, 1, 1, 1, 1, 9, 1, 2, 2, 7, 5, 14, 1, 1, 1, 2, 2, 1, 16, 1, 1, 1, 1, 1, 25, 1, 1, 1, 1, 1, 1, 1, 1, 1, 2, 1, 1, 17, 2, 1, 1, 4, 14, 1, 1, 23, 1, 1, 1, 1, 1, 5, 1, 1, 1, 6, 2, 1, 33, 1, 2, 3, 19, 1, 1, 1, 1, 1, 1, 12, 1, 1, 2, 1, 2, 1, 1, 1, 1, 2, 1, 1, 1, 1, 1, 1, 2, 1, 1, 1, 1, 1, 1, 1, 1, 1]\n"
     ]
    },
    {
     "data": {
      "image/png": "[encoded data removed]",
      "text/plain": [
       "<matplotlib.figure.Figure at 0xbe34828>"
      ]
     },
     "metadata": {},
     "output_type": "display_data"
    }
   ],
   "source": [
    "import matplotlib.pyplot as plt\n",
    "numberTriangles = list(nx.triangles(GCC).values())\n",
    "countSizeTri = sorted([(i, numberTriangles.count(i)) for i in set(numberTriangles)])\n",
    "print countSizeTri\n",
    "xCountSizeTri = [i[0] for i in countSizeTri]\n",
    "yCountSizeTri = [i[1] for i in countSizeTri]\n",
    "print xCountSizeTri\n",
    "print yCountSizeTri\n",
    "plt.bar(xCountSizeTri, yCountSizeTri)\n",
    "plt.title(\"Triangle Distribution\")\n",
    "plt.ylabel(\"Count\")\n",
    "plt.xlabel(\"Number of triangles\")\n",
    "#plt.xlim(0,1200)\n",
    "plt.yscale('log')\n",
    "plt.xscale('log')\n",
    "plt.savefig('TriangelDistributionLog.png')\n",
    "plt.show()"
   ]
  },
  {
   "cell_type": "code",
   "execution_count": 20,
   "metadata": {
    "collapsed": false
   },
   "outputs": [
    {
     "name": "stdout",
     "output_type": "stream",
     "text": [
      "[ 45.61666218+0.j  38.12196449+0.j  34.00715914+0.j  23.00386403+0.j\n",
      "  22.48729846+0.j  20.29655872+0.j  17.78368394+0.j  16.68400287+0.j\n",
      "  15.00444376+0.j  14.85267061+0.j  14.08168853+0.j  13.36661108+0.j\n",
      "  12.70863720+0.j  12.18846229+0.j  12.00997023+0.j  11.23425324+0.j\n",
      "  10.99771046+0.j  10.11475889+0.j   9.84083383+0.j   9.66471520+0.j\n",
      "   9.49458165+0.j   9.41667960+0.j   9.27240498+0.j   9.19970540+0.j\n",
      "   9.15842451+0.j   8.94785433+0.j   8.86342802+0.j   8.77660539+0.j\n",
      "   8.71418694+0.j  -7.30767003+0.j  -7.27291275+0.j   8.58440300+0.j\n",
      "   8.46313584+0.j   8.40670587+0.j  -6.66795683+0.j  -6.61575620+0.j\n",
      "   8.26809567+0.j   8.23132744+0.j   8.12676072+0.j   8.08035039+0.j\n",
      "   8.06217915+0.j   8.00456800+0.j   7.88524097+0.j  -6.32673415+0.j\n",
      "   7.76851838+0.j   7.70195621+0.j   7.64021318+0.j   7.60528023+0.j\n",
      "   7.57687362+0.j  -6.20959532+0.j  -6.16346362+0.j  -6.11120819+0.j\n",
      "  -6.01311963+0.j   7.46444184+0.j   7.42269618+0.j   7.39380926+0.j\n",
      "   7.36132702+0.j   7.31514541+0.j  -5.89198014+0.j   7.28879890+0.j\n",
      "  -5.81154653+0.j   7.22379049+0.j   7.21516208+0.j   7.21897834+0.j\n",
      "   7.18123077+0.j   7.13200572+0.j  -5.71478765+0.j   7.07143096+0.j\n",
      "   7.03569706+0.j   6.98877826+0.j   6.96973489+0.j   6.90223415+0.j\n",
      "   6.89656970+0.j   6.82256240+0.j   6.76765533+0.j   6.71869270+0.j\n",
      "   6.64684241+0.j   6.62335060+0.j   6.59666046+0.j   6.57501238+0.j\n",
      "  -5.60686556+0.j  -5.59974631+0.j   6.51673655+0.j  -5.53679019+0.j\n",
      "  -5.50435229+0.j   6.45931581+0.j   6.43631576+0.j  -5.45779019+0.j\n",
      "   6.40795646+0.j  -5.39580130+0.j  -5.38148468+0.j   6.36245450+0.j\n",
      "   6.35229201+0.j   6.30392451+0.j   6.28663759+0.j   6.23679834+0.j\n",
      "   6.22651010+0.j   6.20961223+0.j   6.19828511+0.j   6.18365157+0.j\n",
      "   6.14029925+0.j   6.10861664+0.j  -5.30349432+0.j  -5.27760908+0.j\n",
      "   6.06142772+0.j   6.04879628+0.j   6.02135715+0.j   5.98185511+0.j\n",
      "   5.96038456+0.j   5.95082147+0.j   5.94588817+0.j   5.92786931+0.j\n",
      "  -5.18996259+0.j   5.87563747+0.j   5.86170203+0.j   5.83917588+0.j\n",
      "  -5.14064991+0.j   5.80770608+0.j   5.79215979+0.j   5.76505244+0.j\n",
      "   5.71100625+0.j   5.69347371+0.j   5.68882919+0.j  -5.10698938+0.j\n",
      "   5.65534886+0.j   5.64566068+0.j  -5.07541184+0.j   5.59756839+0.j\n",
      "   5.59147219+0.j   5.55422586+0.j  -5.04756325+0.j   5.52463425+0.j\n",
      "   5.51936519+0.j  -5.03280677+0.j   5.48695413+0.j   5.45972426+0.j\n",
      "   5.45111057+0.j   5.42541848+0.j   5.42098767+0.j  -4.99174696+0.j\n",
      "   5.40730877+0.j  -4.97861813+0.j   5.37510989+0.j   5.35115284+0.j\n",
      "   5.32543952+0.j  -4.92104144+0.j  -4.90621937+0.j   5.30530312+0.j\n",
      "   5.29649055+0.j   5.28803711+0.j   5.26902130+0.j   5.25464536+0.j\n",
      "   5.23985870+0.j   5.22093313+0.j  -4.83702877+0.j  -4.82803026+0.j\n",
      "   5.19355065+0.j  -4.80232349+0.j   5.17705134+0.j   5.17129665+0.j\n",
      "   5.14124582+0.j   5.13791211+0.j   5.12558874+0.j  -4.75926526+0.j\n",
      "   5.09899852+0.j   5.09659267+0.j   5.06014143+0.j  -4.72145402+0.j\n",
      "   5.04109502+0.j   5.02751592+0.j   5.02714462+0.j  -4.69834116+0.j\n",
      "   5.00000000+0.j   4.98804971+0.j   4.97752103+0.j   4.97442692+0.j\n",
      "   4.97231741+0.j  -4.67345661+0.j  -4.66745270+0.j   4.95693345+0.j\n",
      "  -4.64115399+0.j  -4.61876902+0.j   4.93170670+0.j   4.92515608+0.j\n",
      "   4.90888246+0.j  -4.59728132+0.j   4.89058332+0.j   4.87705843+0.j\n",
      "  -4.57634377+0.j   4.86487163+0.j  -4.55387247+0.j  -4.54863676+0.j\n",
      "   4.85434232+0.j   4.83761728+0.j   4.82329678+0.j   4.81682776+0.j\n",
      "   4.80550875+0.j   4.78646914+0.j   4.76972918+0.j  -4.52132031+0.j\n",
      "  -4.50879013+0.j  -4.49597765+0.j   4.75478137+0.j   4.74715643+0.j\n",
      "   4.73586493+0.j   4.72770746+0.j   4.71286645+0.j   4.71151787+0.j\n",
      "  -4.47179186+0.j   4.69019453+0.j   4.67729725+0.j  -4.42669000+0.j\n",
      "   4.65290744+0.j   4.64823876+0.j   4.63471489+0.j   4.62436735+0.j\n",
      "   4.61943740+0.j   4.59050554+0.j   4.57825573+0.j   4.56945985+0.j\n",
      "  -4.40640811+0.j  -4.39364798+0.j  -4.38653509+0.j  -4.38274732+0.j\n",
      "   4.54455308+0.j   4.52881591+0.j   4.52040417+0.j   4.51145816+0.j\n",
      "   4.51041839+0.j  -4.35596137+0.j  -4.33993843+0.j  -4.31543437+0.j\n",
      "   4.48598024+0.j   4.48210352+0.j   4.47625914+0.j   4.46711945+0.j\n",
      "   4.45469524+0.j  -4.29392068+0.j  -4.28672825+0.j   4.43801864+0.j\n",
      "  -4.27002018+0.j   4.43074308+0.j  -4.25483610+0.j   4.41501294+0.j\n",
      "   4.40789130+0.j   4.39882379+0.j   4.39091203+0.j   4.38774501+0.j\n",
      "  -4.23156842+0.j  -4.22470957+0.j   4.36538355+0.j  -4.20229978+0.j\n",
      "  -4.19213170+0.j   4.34343810+0.j   4.33701330+0.j   4.32687617+0.j\n",
      "   4.31983861+0.j   4.31502302+0.j   4.29769062+0.j  -4.15753221+0.j\n",
      "  -4.14620396+0.j   4.27885196+0.j   4.27286447+0.j   4.26766952+0.j\n",
      "  -4.13521827+0.j  -4.12761169+0.j   4.24431236+0.j   4.24238827+0.j\n",
      "   4.22861118+0.j   4.22037572+0.j   4.21286475+0.j  -4.10434486+0.j\n",
      "  -4.10006452+0.j   4.20243055+0.j   4.19580065+0.j   4.18931725+0.j\n",
      "  -4.08374614+0.j   4.17792158+0.j   4.17090936+0.j  -4.06990941+0.j\n",
      "  -4.05931404+0.j  -4.05408269+0.j  -4.03341384+0.j  -4.02528902+0.j\n",
      "   4.14905083+0.j   4.14537868+0.j   4.13236141+0.j   4.12877868+0.j\n",
      "  -4.00817197+0.j  -3.99542166+0.j  -3.98796196+0.j   4.11300447+0.j\n",
      "   4.10869750+0.j   4.09807802+0.j   4.08695847+0.j   4.08429868+0.j\n",
      "   4.08100291+0.j   4.07382413+0.j  -3.96898646+0.j   4.05711159+0.j\n",
      "  -3.96000690+0.j   4.04397085+0.j   4.04244479+0.j  -3.95436156+0.j\n",
      "   4.03551579+0.j  -3.94073605+0.j   4.02339355+0.j   4.01944941+0.j\n",
      "   4.01650988+0.j   4.00420054+0.j  -3.92852739+0.j  -3.91824403+0.j\n",
      "  -3.90369699+0.j  -3.89594683+0.j   3.98346769+0.j   3.97622486+0.j\n",
      "   3.97183842+0.j  -3.88044593+0.j   3.96131255+0.j   3.95277173+0.j\n",
      "  -3.86537974+0.j  -3.85244598+0.j  -3.85084520+0.j  -3.83753543+0.j\n",
      "  -3.82838068+0.j   3.93492395+0.j   3.92909289+0.j   3.92630176+0.j\n",
      "   3.91449187+0.j   3.91156726+0.j   3.89965879+0.j   3.89251982+0.j\n",
      "   3.88573423+0.j  -3.80679485+0.j  -3.80600018+0.j  -3.78954919+0.j\n",
      "   3.86951794+0.j   3.86889284+0.j   3.86562858+0.j   3.85528941+0.j\n",
      "   3.85348634+0.j   3.84863375+0.j  -3.78123521+0.j  -3.77688712+0.j\n",
      "   3.83377507+0.j  -3.76498724+0.j   3.82373825+0.j   3.81776932+0.j\n",
      "  -3.75081115+0.j  -3.74557891+0.j   3.81042163+0.j   3.80341948+0.j\n",
      "  -3.73344584+0.j  -3.72600622+0.j   3.78855313+0.j   3.78549621+0.j\n",
      "   3.77661548+0.j   3.77165178+0.j   3.76609781+0.j   3.75581232+0.j\n",
      "   3.74503048+0.j   3.74371466+0.j   3.72939557+0.j  -3.70773923+0.j\n",
      "  -3.70393709+0.j   3.71312802+0.j   3.71168257+0.j   3.70105038+0.j\n",
      "  -3.69030237+0.j  -3.68583496+0.j   3.69200633+0.j   3.68278966+0.j\n",
      "  -3.67595207+0.j  -3.67076556+0.j  -3.65996538+0.j  -3.65565258+0.j\n",
      "   3.66845559+0.j  -3.64378965+0.j   3.66145967+0.j   3.65180598+0.j\n",
      "   3.65030173+0.j  -3.63310060+0.j  -3.62792542+0.j   3.64302601+0.j\n",
      "  -3.61429680+0.j  -3.60672327+0.j  -3.59916381+0.j   3.63055636+0.j\n",
      "   3.62486766+0.j   3.61573313+0.j  -3.59096093+0.j   3.60127725+0.j\n",
      "   3.59132059+0.j   3.59179053+0.j   3.58095582+0.j   3.57186496+0.j\n",
      "  -3.56142127+0.j   3.55786516+0.j   3.55508913+0.j   3.54098360+0.j\n",
      "   3.53503089+0.j   3.52204417+0.j   3.51324285+0.j   3.51031766+0.j\n",
      "  -3.54784175+0.j  -3.54579469+0.j  -3.53802913+0.j  -3.53525974+0.j\n",
      "   3.49730526+0.j  -3.52426616+0.j   3.48815090+0.j  -3.51525068+0.j\n",
      "  -3.50699350+0.j  -3.50383380+0.j  -3.49635905+0.j  -3.49513114+0.j\n",
      "  -3.48236620+0.j  -3.47894856+0.j  -3.47493696+0.j   3.47621755+0.j\n",
      "   3.47439071+0.j  -3.45757500+0.j   3.46338358+0.j   3.45729360+0.j\n",
      "   3.45403350+0.j   3.45023744+0.j   3.44575563+0.j   3.44289612+0.j\n",
      "  -3.44698576+0.j  -3.44375917+0.j   3.43725116+0.j  -3.43734637+0.j\n",
      "   3.42669676+0.j   3.42377175+0.j  -3.42949170+0.j   3.41875758+0.j\n",
      "   3.41299802+0.j   3.40595109+0.j   3.40339731+0.j  -3.41893770+0.j\n",
      "   3.39530257+0.j   3.38306326+0.j   3.37880067+0.j   3.37502458+0.j\n",
      "   3.36964408+0.j   3.35387025+0.j   3.35035821+0.j  -3.39882738+0.j\n",
      "  -3.39836634+0.j  -3.39241122+0.j   3.34038136+0.j   3.33431922+0.j\n",
      "   3.32683596+0.j  -3.37960140+0.j  -3.37837974+0.j  -3.37715972+0.j\n",
      "   3.31937966+0.j   3.31319963+0.j   3.30210196+0.j   3.29826662+0.j\n",
      "   3.29170295+0.j   3.28884307+0.j   3.28574844+0.j   3.27543895+0.j\n",
      "   3.27489779+0.j   3.26607737+0.j  -3.35696623+0.j  -3.35483373+0.j\n",
      "   3.25953613+0.j   3.25318623+0.j   3.25146274+0.j   3.24650617+0.j\n",
      "  -3.34485042+0.j  -3.33484611+0.j  -3.32584804+0.j  -3.31755183+0.j\n",
      "   3.23383667+0.j   3.22747431+0.j   3.22153564+0.j  -3.31061047+0.j\n",
      "  -3.30226089+0.j   3.21232396+0.j   3.20639093+0.j  -3.29605892+0.j\n",
      "   3.19934096+0.j   3.19589262+0.j   3.18915113+0.j   3.18835501+0.j\n",
      "   3.17958178+0.j   3.17634313+0.j   3.16956955+0.j   3.16769762+0.j\n",
      "   3.15662806+0.j  -3.28472859+0.j  -3.27899091+0.j   3.14612800+0.j\n",
      "   3.14050206+0.j   3.13702936+0.j   3.13540623+0.j   3.13124342+0.j\n",
      "   3.12848242+0.j  -3.27183451+0.j   3.12033048+0.j  -3.26544379+0.j\n",
      "   3.11566237+0.j  -3.25912295+0.j   3.10455050+0.j   3.09969432+0.j\n",
      "   3.09615553+0.j   3.09430824+0.j   3.09212314+0.j   3.08454030+0.j\n",
      "   3.08055655+0.j   3.07508291+0.j   3.06875062+0.j   3.06192280+0.j\n",
      "   3.05620166+0.j   3.05113655+0.j   3.05002678+0.j  -3.24689776+0.j\n",
      "  -3.24371212+0.j   3.04093135+0.j   3.03628143+0.j   3.03369931+0.j\n",
      "   3.03146385+0.j  -3.23601913+0.j   3.02012337+0.j   3.01388778+0.j\n",
      "   3.01119435+0.j   3.00567137+0.j   2.99987879+0.j  -3.22954265+0.j\n",
      "   2.98857684+0.j  -3.22174585+0.j   2.98283589+0.j   2.97739176+0.j\n",
      "   2.97485069+0.j  -3.20964362+0.j  -3.20414748+0.j  -3.19765429+0.j\n",
      "  -3.19498537+0.j  -3.18890044+0.j  -3.18651350+0.j   2.96090301+0.j\n",
      "   2.95401663+0.j   2.95017079+0.j   2.94930877+0.j   2.94713020+0.j\n",
      "  -3.17891688+0.j   2.94106434+0.j   2.93228043+0.j   2.93034092+0.j\n",
      "   2.92705278+0.j   2.92178215+0.j  -3.17255178+0.j  -3.16091936+0.j\n",
      "   2.91057509+0.j   2.90569776+0.j   2.90126632+0.j   2.89812109+0.j\n",
      "   2.89567050+0.j   2.88580118+0.j   2.88037176+0.j   2.87785087+0.j\n",
      "   2.87179000+0.j   2.86711321+0.j   2.86448368+0.j  -3.15200883+0.j\n",
      "   2.85736603+0.j  -3.14475169+0.j  -3.13676301+0.j  -3.13509848+0.j\n",
      "  -3.12901811+0.j  -3.12562590+0.j  -3.11956568+0.j  -3.11818393+0.j\n",
      "  -3.10814298+0.j  -3.10469836+0.j  -3.10143309+0.j  -3.09386762+0.j\n",
      "  -3.09023003+0.j   2.84503089+0.j   2.84298210+0.j   2.83536750+0.j\n",
      "   2.83443433+0.j   2.82901845+0.j   2.82338020+0.j  -3.08296952+0.j\n",
      "  -3.07885266+0.j   2.81540122+0.j   2.81444200+0.j  -3.07211197+0.j\n",
      "   2.80431585+0.j  -3.06745037+0.j   2.79814711+0.j   2.78827353+0.j\n",
      "   2.78366003+0.j   2.77931603+0.j   2.77838316+0.j   2.77141735+0.j\n",
      "   2.77011125+0.j   2.76703190+0.j   2.76354306+0.j   2.75898348+0.j\n",
      "   2.75333854+0.j   2.74749857+0.j   2.74329176+0.j   2.73767118+0.j\n",
      "   2.73800974+0.j   2.72824196+0.j  -3.05092439+0.j  -3.04823387+0.j\n",
      "  -3.04494317+0.j  -3.04143836+0.j   2.71612160+0.j   2.71158965+0.j\n",
      "   2.71044188+0.j  -3.03517730+0.j   2.70363397+0.j  -3.02761517+0.j\n",
      "   2.69369919+0.j  -3.02049289+0.j   2.68489957+0.j  -3.01470761+0.j\n",
      "  -3.01190035+0.j  -3.00882560+0.j   2.68075513+0.j  -3.00332341+0.j\n",
      "   2.67367194+0.j  -2.99751764+0.j  -2.99162423+0.j  -2.98481292+0.j\n",
      "  -2.97822608+0.j  -2.97467968+0.j  -2.96971086+0.j   2.66943619+0.j\n",
      "   2.66575323+0.j   2.65846228+0.j   2.65630022+0.j   2.65130170+0.j\n",
      "   2.64127105+0.j   2.63892486+0.j   2.63636912+0.j   2.63402641+0.j\n",
      "  -2.95690019+0.j   2.62823446+0.j  -2.95281240+0.j  -2.94755031+0.j\n",
      "  -2.94348402+0.j  -2.93827059+0.j  -2.93627958+0.j   2.61710432+0.j\n",
      "   2.61571386+0.j   2.61406174+0.j   2.60397848+0.j   2.60249331+0.j\n",
      "  -2.92839724+0.j  -2.92365246+0.j  -2.91950418+0.j  -2.91222999+0.j\n",
      "  -2.90949601+0.j  -2.90190762+0.j  -2.90053483+0.j  -2.89785962+0.j\n",
      "   2.59184019+0.j   2.57968209+0.j   2.57471913+0.j   2.57170261+0.j\n",
      "   2.56464297+0.j   2.56084136+0.j   2.54773619+0.j   2.54424634+0.j\n",
      "   2.54035596+0.j   2.53327456+0.j  -2.88146285+0.j   2.52539391+0.j\n",
      "   2.52327558+0.j   2.52293704+0.j  -2.87870668+0.j  -2.87371325+0.j\n",
      "  -2.87099470+0.j  -2.87020669+0.j  -2.86615581+0.j   2.51081741+0.j\n",
      "   2.50876420+0.j   2.50434162+0.j   2.49921646+0.j  -2.85586433+0.j\n",
      "  -2.84975590+0.j  -2.84763843+0.j  -2.84264659+0.j  -2.84042434+0.j\n",
      "  -2.83716264+0.j   2.48822386+0.j   2.48628611+0.j   2.48192462+0.j\n",
      "  -2.82710549+0.j  -2.82308454+0.j  -2.82038831+0.j   2.47200239+0.j\n",
      "   2.46914101+0.j   2.46690998+0.j   2.46123170+0.j   2.46015459+0.j\n",
      "  -2.81382775+0.j   2.45301685+0.j  -2.80898961+0.j  -2.80569053+0.j\n",
      "  -2.80161600+0.j  -2.79554504+0.j  -2.79384046+0.j   2.44633728+0.j\n",
      "  -2.78952992+0.j   2.43637401+0.j   2.43483566+0.j   2.42900768+0.j\n",
      "   2.42794493+0.j   2.42336209+0.j  -2.78450821+0.j  -2.77703133+0.j\n",
      "  -2.77369287+0.j  -2.77132489+0.j  -2.76978781+0.j   2.41309015+0.j\n",
      "   2.41229483+0.j   2.40607886+0.j   2.40377012+0.j   2.39340403+0.j\n",
      "   2.39131120+0.j  -2.75900644+0.j   2.38553404+0.j  -2.75140101+0.j\n",
      "   2.38039068+0.j   2.37733245+0.j  -2.74673097+0.j   2.36921210+0.j\n",
      "  -2.74119347+0.j  -2.73523218+0.j  -2.73267039+0.j  -2.72941003+0.j\n",
      "   2.36373213+0.j  -2.71856979+0.j   2.35735041+0.j   2.35641403+0.j\n",
      "   2.35161886+0.j   2.34901204+0.j   2.34327485+0.j   2.34194512+0.j\n",
      "   2.33790387+0.j   2.33394260+0.j   2.33187761+0.j   2.32964831+0.j\n",
      "   2.32628171+0.j  -2.71512240+0.j   2.31960652+0.j   2.31728293+0.j\n",
      "   2.31407885+0.j   2.31281867+0.j  -2.71199972+0.j  -2.70861149+0.j\n",
      "   2.30699106+0.j   2.30467311+0.j   2.30067377+0.j   2.29871041+0.j\n",
      "  -2.70602040+0.j  -2.70258276+0.j   2.29283174+0.j   2.29013790+0.j\n",
      "  -2.69692747+0.j  -2.69415668+0.j  -2.69323862+0.j   2.28537029+0.j\n",
      "   2.28207065+0.j   2.27747604+0.j   2.27369105+0.j   2.27237621+0.j\n",
      "   2.26850797+0.j   2.26471469+0.j   2.26088139+0.j   2.25908846+0.j\n",
      "  -2.68747739+0.j  -2.68522890+0.j  -2.68111064+0.j  -2.67704676+0.j\n",
      "  -2.67444704+0.j  -2.67220396+0.j   2.25283628+0.j  -2.66638081+0.j\n",
      "   2.24857271+0.j   2.24524132+0.j  -2.66027330+0.j  -2.65812766+0.j\n",
      "  -2.65529686+0.j   2.23943151+0.j   2.23551403+0.j   2.23511823+0.j\n",
      "   2.22931475+0.j   2.22544612+0.j   2.22138553+0.j   2.21873785+0.j\n",
      "   2.21623455+0.j  -2.64835664+0.j  -2.64644145+0.j  -2.64566244+0.j\n",
      "  -2.64032291+0.j  -2.63653586+0.j  -2.63469935+0.j  -2.63257616+0.j\n",
      "  -2.62705816+0.j  -2.62389923+0.j  -2.62353158+0.j  -2.61854906+0.j\n",
      "  -2.61438860+0.j  -2.61104116+0.j   2.21334366+0.j   2.20851438+0.j\n",
      "   2.20431185+0.j   2.19988523+0.j   2.19646899+0.j   2.19208668+0.j\n",
      "   2.18991988+0.j   2.18598977+0.j  -2.60620225+0.j  -2.60102970+0.j\n",
      "   2.17771337+0.j   2.17132433+0.j   2.16916518+0.j   2.16700287+0.j\n",
      "   2.16111617+0.j   2.15900633+0.j   2.15470611+0.j  -2.59204071+0.j\n",
      "  -2.59149001+0.j  -2.58878628+0.j  -2.58585162+0.j  -2.58140459+0.j\n",
      "  -2.57526727+0.j  -2.57393538+0.j  -2.57010559+0.j   2.14485621+0.j\n",
      "   2.14467744+0.j   2.14346722+0.j   2.13725466+0.j   2.13347377+0.j\n",
      "   2.13422007+0.j   2.12743076+0.j   2.12444639+0.j   2.12036690+0.j\n",
      "   2.11683218+0.j  -2.56176685+0.j  -2.55908196+0.j  -2.55659992+0.j\n",
      "  -2.55296165+0.j  -2.54847090+0.j  -2.54674884+0.j  -2.54242493+0.j\n",
      "  -2.54084155+0.j  -2.53934754+0.j  -2.53053863+0.j  -2.52814886+0.j\n",
      "  -2.52695525+0.j  -2.52191028+0.j  -2.51876216+0.j  -2.51231136+0.j\n",
      "  -2.51074956+0.j  -2.50861387+0.j  -2.50690441+0.j  -2.49986631+0.j\n",
      "  -2.49731983+0.j  -2.49370456+0.j  -2.49066710+0.j  -2.48755660+0.j\n",
      "  -2.48162673+0.j  -2.47954518+0.j  -2.47586696+0.j  -2.47201484+0.j\n",
      "  -2.46709713+0.j  -2.46525787+0.j  -2.46039746+0.j  -2.45623533+0.j\n",
      "  -2.45301187+0.j  -2.45032669+0.j  -2.44754297+0.j  -2.44498095+0.j\n",
      "  -2.44184893+0.j  -2.44154616+0.j  -2.43635984+0.j  -2.43345753+0.j\n",
      "  -2.42705078+0.j  -2.42611612+0.j  -2.42483219+0.j  -2.42023534+0.j\n",
      "  -2.41751780+0.j  -2.41649045+0.j  -2.41442376+0.j  -2.40887402+0.j\n",
      "  -2.40167901+0.j  -2.40080377+0.j  -2.39862507+0.j  -2.39715508+0.j\n",
      "  -2.39452606+0.j  -2.39017703+0.j  -2.38549560+0.j  -2.38092060+0.j\n",
      "  -2.38017611+0.j  -2.37662894+0.j  -2.37224556+0.j  -2.37080646+0.j\n",
      "  -2.36949226+0.j  -2.36580900+0.j  -2.36396056+0.j  -2.36086283+0.j\n",
      "  -2.35951327+0.j  -2.35605004+0.j  -2.35314877+0.j  -2.34910855+0.j\n",
      "  -2.34686176+0.j  -2.34541378+0.j  -2.34130358+0.j  -2.33777564+0.j\n",
      "  -2.33177594+0.j  -2.33024865+0.j  -2.32829665+0.j  -2.32805437+0.j\n",
      "  -2.32449998+0.j  -2.32111796+0.j  -2.31594810+0.j  -2.31344619+0.j\n",
      "  -2.31197512+0.j  -2.30952772+0.j  -2.30780065+0.j  -2.30671293+0.j\n",
      "  -2.30230154+0.j  -2.30219239+0.j  -2.29902658+0.j  -2.29471519+0.j\n",
      "  -2.29096827+0.j  -2.28651498+0.j  -2.28437302+0.j  -2.28337288+0.j\n",
      "  -2.27964874+0.j  -2.27442451+0.j  -2.26844655+0.j  -2.26682361+0.j\n",
      "  -2.26437499+0.j  -2.26349766+0.j  -2.26110548+0.j  -2.25972348+0.j\n",
      "  -2.25613824+0.j  -2.25422959+0.j  -2.25257014+0.j  -2.24844852+0.j\n",
      "  -2.24723800+0.j  -2.24167276+0.j  -2.24010746+0.j  -2.23683965+0.j\n",
      "  -2.23384517+0.j  -2.22807401+0.j  -2.22428476+0.j  -2.22391259+0.j\n",
      "  -2.22076273+0.j  -2.21813416+0.j  -2.21477204+0.j  -2.21101872+0.j\n",
      "  -2.21007872+0.j  -2.20756431+0.j  -2.20641292+0.j  -2.20449625+0.j\n",
      "  -2.20231708+0.j  -2.19570561+0.j  -2.19239674+0.j  -2.18957698+0.j\n",
      "  -2.18804915+0.j  -2.18672035+0.j  -2.18335748+0.j  -2.18068743+0.j\n",
      "  -2.17929136+0.j  -2.17649155+0.j  -2.17490758+0.j  -2.17094957+0.j\n",
      "  -2.16850634+0.j  -2.16608874+0.j  -2.16092088+0.j  -2.15868393+0.j\n",
      "  -2.15628533+0.j  -2.15501386+0.j  -2.15304784+0.j  -2.15224592+0.j\n",
      "  -2.14858986+0.j  -2.14652815+0.j  -2.14376821+0.j  -2.14180755+0.j\n",
      "  -2.13746860+0.j  -2.13554867+0.j  -2.13486220+0.j  -2.13521674+0.j\n",
      "  -2.13070043+0.j  -2.12655743+0.j  -2.12106801+0.j  -2.11753275+0.j]\n"
     ]
    }
   ],
   "source": [
    "import scipy\n",
    "error = []\n",
    "adjacencyMatrix = nx.adjacency_matrix(GCC)\n",
    "adjacencyMatrixF = scipy.sparse.csr_matrix.asfptype(adjacencyMatrix)\n",
    "eigens, eigenvector = scipy.sparse.linalg.eigs(adjacencyMatrixF, k=1000)\n",
    "print eigens"
   ]
  },
  {
   "cell_type": "code",
   "execution_count": 38,
   "metadata": {
    "collapsed": false
   },
   "outputs": [
    {
     "data": {
      "image/png": "[encoded data removed]",
      "text/plain": [
       "<matplotlib.figure.Figure at 0xbb21160>"
      ]
     },
     "metadata": {},
     "output_type": "display_data"
    },
    {
     "name": "stdout",
     "output_type": "stream",
     "text": [
      "(array([194], dtype=int64),)\n",
      "5.3232989637e-05\n"
     ]
    }
   ],
   "source": [
    "import numpy as np\n",
    "approximation = 0\n",
    "error = []\n",
    "eigens = sorted(eigens, key=lambda x:abs(x), reverse=True)\n",
    "for i in range(1000):\n",
    "    approximation += (eigens[i] * eigens[i] * eigens[i] / 6.0)\n",
    "    error.append(abs(approximation-47779)*1.0/47779)\n",
    "approximationX = range(1000)\n",
    "plt.plot(approximationX, error)\n",
    "plt.title(\"Error\")\n",
    "plt.ylabel(\"Error\")\n",
    "plt.xlabel(\"Number of eigenvalues\")\n",
    "plt.savefig(\"approximation.png\")\n",
    "plt.show()\n",
    "print np.where(error == min(error))\n",
    "print error[194]"
   ]
  },
  {
   "cell_type": "code",
   "execution_count": 39,
   "metadata": {
    "collapsed": false
   },
   "outputs": [
    {
     "name": "stdout",
     "output_type": "stream",
     "text": [
      "17\n"
     ]
    }
   ],
   "source": [
    "print nx.diameter(GCC)"
   ]
  },
  {
   "cell_type": "code",
   "execution_count": null,
   "metadata": {
    "collapsed": true
   },
   "outputs": [],
   "source": []
  }
 ],
 "metadata": {
  "kernelspec": {
   "display_name": "Python 2",
   "language": "python",
   "name": "python2"
  },
  "language_info": {
   "codemirror_mode": {
    "name": "ipython",
    "version": 2
   },
   "file_extension": ".py",
   "mimetype": "text/x-python",
   "name": "python",
   "nbconvert_exporter": "python",
   "pygments_lexer": "ipython2",
   "version": "2.7.13"
  }
 },
 "nbformat": 4,
 "nbformat_minor": 2
}
