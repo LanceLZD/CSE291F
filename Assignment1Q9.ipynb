{
 "cells": [
  {
   "cell_type": "code",
   "execution_count": 1,
   "metadata": {
    "collapsed": true
   },
   "outputs": [],
   "source": [
    "import numpy as np\n",
    "import networkx as nx"
   ]
  },
  {
   "cell_type": "code",
   "execution_count": 2,
   "metadata": {
    "collapsed": false
   },
   "outputs": [
    {
     "name": "stdout",
     "output_type": "stream",
     "text": [
      "(8192L, 8192L)\n"
     ]
    }
   ],
   "source": [
    "A = np.array([[0.99, 0.26], [0.26, 0.53]])\n",
    "B = np.array([[0.99, 0.26], [0.26, 0.53]])\n",
    "for i in range(0, 12):\n",
    "    B = np.kron(B, A)\n",
    "print B.shape"
   ]
  },
  {
   "cell_type": "code",
   "execution_count": 4,
   "metadata": {
    "collapsed": false
   },
   "outputs": [],
   "source": [
    "import random\n",
    "KG = nx.Graph()\n",
    "KG.add_nodes_from(range(8192))\n",
    "for i in range(8192):\n",
    "    for j in range(8192):\n",
    "        tmpRandom = random.random()\n",
    "        if tmpRandom < B[i, j]:\n",
    "            KG.add_edge(i, j)"
   ]
  },
  {
   "cell_type": "code",
   "execution_count": 7,
   "metadata": {
    "collapsed": false
   },
   "outputs": [
    {
     "name": "stdout",
     "output_type": "stream",
     "text": [
      "8192 10650\n",
      "False\n",
      "5946\n"
     ]
    }
   ],
   "source": [
    "print len(KG.nodes()), len(KG.edges())\n",
    "print nx.is_connected(KG)\n",
    "GCC = max(nx.connected_component_subgraphs(KG), key=len)\n",
    "print len(GCC.nodes())"
   ]
  },
  {
   "cell_type": "code",
   "execution_count": 8,
   "metadata": {
    "collapsed": false
   },
   "outputs": [
    {
     "name": "stdout",
     "output_type": "stream",
     "text": [
      "18\n"
     ]
    }
   ],
   "source": [
    "print nx.diameter(GCC)"
   ]
  },
  {
   "cell_type": "code",
   "execution_count": 9,
   "metadata": {
    "collapsed": true
   },
   "outputs": [],
   "source": [
    "GRQC = nx.read_edgelist(\"C:/Users/Think/Documents/CSE291F/CA-GrQc.txt\")\n",
    "GCC2 = max(nx.connected_component_subgraphs(GRQC), key=len)"
   ]
  },
  {
   "cell_type": "code",
   "execution_count": 11,
   "metadata": {
    "collapsed": false
   },
   "outputs": [
    {
     "name": "stdout",
     "output_type": "stream",
     "text": [
      "6.54045240922\n",
      "6.04938001618\n"
     ]
    }
   ],
   "source": [
    "print nx.average_shortest_path_length(GCC)\n",
    "print nx.average_shortest_path_length(GCC2)"
   ]
  },
  {
   "cell_type": "code",
   "execution_count": 16,
   "metadata": {
    "collapsed": false
   },
   "outputs": [
    {
     "data": {
      "image/png": "[encoded data removed]",
      "text/plain": [
       "<matplotlib.figure.Figure at 0x662d208>"
      ]
     },
     "metadata": {},
     "output_type": "display_data"
    }
   ],
   "source": [
    "import matplotlib.pyplot as plt\n",
    "degreeHistogram1 = nx.degree_histogram(KG)\n",
    "degreeHistogram2 = nx.degree_histogram(GRQC)\n",
    "x1 = range(len(degreeHistogram1))\n",
    "x2 = range(len(degreeHistogram2))\n",
    "plt.plot(x1, degreeHistogram1, label=\"Kronecker\")\n",
    "plt.plot(x2, degreeHistogram2, label=\"CA-GrQc\")\n",
    "plt.title(\"Degree Distribution of Nodes\")\n",
    "plt.ylabel(\"nk\")\n",
    "plt.xlabel(\"k\")\n",
    "plt.legend()\n",
    "plt.yscale('log')\n",
    "plt.xscale('log')\n",
    "plt.savefig('degreeCompare.png')\n",
    "plt.show()"
   ]
  },
  {
   "cell_type": "code",
   "execution_count": null,
   "metadata": {
    "collapsed": true
   },
   "outputs": [],
   "source": []
  }
 ],
 "metadata": {
  "kernelspec": {
   "display_name": "Python 2",
   "language": "python",
   "name": "python2"
  },
  "language_info": {
   "codemirror_mode": {
    "name": "ipython",
    "version": 2
   },
   "file_extension": ".py",
   "mimetype": "text/x-python",
   "name": "python",
   "nbconvert_exporter": "python",
   "pygments_lexer": "ipython2",
   "version": "2.7.13"
  }
 },
 "nbformat": 4,
 "nbformat_minor": 2
}
